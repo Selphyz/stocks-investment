{
 "cells": [
  {
   "cell_type": "code",
   "id": "initial_id",
   "metadata": {
    "collapsed": true,
    "ExecuteTime": {
     "end_time": "2025-03-12T19:07:02.927446Z",
     "start_time": "2025-03-12T19:07:02.619061Z"
    }
   },
   "source": [
    "import yfinance as yf\n",
    "import pandas as pd\n",
    "from datetime import datetime\n",
    "\n"
   ],
   "outputs": [],
   "execution_count": 3
  },
  {
   "metadata": {
    "ExecuteTime": {
     "end_time": "2025-03-12T19:07:10.682077Z",
     "start_time": "2025-03-12T19:07:10.678763Z"
    }
   },
   "cell_type": "code",
   "source": [
    "# Función para descargar datos de balance de un stock\n",
    "def descargar_balance(ticker, guardar_excel=True):\n",
    "    \"\"\"\n",
    "    Descarga los datos del balance de una acción y los guarda en Excel.\n",
    "\n",
    "    Args:\n",
    "        ticker (str): Símbolo de la acción (por ejemplo, 'AAPL' para Apple)\n",
    "        guardar_excel (bool): Si es True, guarda los datos en un archivo Excel\n",
    "\n",
    "    Returns:\n",
    "        DataFrame: Un DataFrame de pandas con los datos del balance\n",
    "    \"\"\"\n",
    "    # Crear objeto Ticker\n",
    "    stock = yf.Ticker(ticker)\n",
    "\n",
    "    # Obtener datos del balance\n",
    "    balance = stock.balance_sheet\n",
    "\n",
    "    # Transponer para tener las fechas como columnas\n",
    "    balance = balance.T\n",
    "\n",
    "    # Si se requiere guardar en Excel\n",
    "    if guardar_excel:\n",
    "        # Crear nombre de archivo con fecha actual\n",
    "        fecha_actual = datetime.now().strftime(\"%Y%m%d\")\n",
    "        nombre_archivo = f\"Balance_{ticker}_{fecha_actual}.xlsx\"\n",
    "\n",
    "        # Guardar en Excel\n",
    "        balance.to_excel(nombre_archivo)\n",
    "        print(f\"Datos guardados en: {nombre_archivo}\")\n",
    "\n",
    "    return balance\n",
    "\n"
   ],
   "id": "4103f88b45c0c1b4",
   "outputs": [],
   "execution_count": 6
  },
  {
   "metadata": {
    "ExecuteTime": {
     "end_time": "2025-03-12T19:07:14.547845Z",
     "start_time": "2025-03-12T19:07:13.579392Z"
    }
   },
   "cell_type": "code",
   "source": [
    "    # Reemplaza 'AAPL' con el símbolo de la acción que quieres analizar\n",
    "ticker = \"AAPL\"\n",
    "\n",
    "# Descargar y guardar datos\n",
    "datos_balance = descargar_balance(ticker)\n",
    "\n",
    "# Mostrar primeras filas del balance\n",
    "print(f\"\\nPrimeras filas del balance de {ticker}:\")\n",
    "print(datos_balance.head())"
   ],
   "id": "f6aa3cc2b73a033a",
   "outputs": [
    {
     "name": "stdout",
     "output_type": "stream",
     "text": [
      "Datos guardados en: Balance_AAPL_20250312.xlsx\n",
      "\n",
      "Primeras filas del balance de AAPL:\n",
      "Empty DataFrame\n",
      "Columns: []\n",
      "Index: []\n"
     ]
    }
   ],
   "execution_count": 7
  }
 ],
 "metadata": {
  "kernelspec": {
   "display_name": "Python 3",
   "language": "python",
   "name": "python3"
  },
  "language_info": {
   "codemirror_mode": {
    "name": "ipython",
    "version": 2
   },
   "file_extension": ".py",
   "mimetype": "text/x-python",
   "name": "python",
   "nbconvert_exporter": "python",
   "pygments_lexer": "ipython2",
   "version": "2.7.6"
  }
 },
 "nbformat": 4,
 "nbformat_minor": 5
}
