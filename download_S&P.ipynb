{
 "cells": [
  {
   "cell_type": "code",
   "id": "initial_id",
   "metadata": {
    "collapsed": true,
    "ExecuteTime": {
     "end_time": "2024-06-30T15:26:36.494527Z",
     "start_time": "2024-06-30T15:26:36.019378Z"
    }
   },
   "source": [
    "import yfinance as yf\n",
    "import pandas as pd"
   ],
   "outputs": [],
   "execution_count": 2
  },
  {
   "metadata": {
    "ExecuteTime": {
     "end_time": "2024-06-30T21:20:33.788798Z",
     "start_time": "2024-06-30T21:20:33.477396Z"
    }
   },
   "cell_type": "code",
   "source": [
    "sp500url = 'https://en.wikipedia.org/wiki/List_of_S&P_500_companies'\n",
    "sp500data = pd.read_html(sp500url)\n",
    "tickers = sp500data[0]['Symbol'].tolist()"
   ],
   "id": "21d64490e86a598b",
   "outputs": [],
   "execution_count": 8
  },
  {
   "metadata": {
    "ExecuteTime": {
     "end_time": "2024-06-30T21:21:54.433226Z",
     "start_time": "2024-06-30T21:21:47.598685Z"
    }
   },
   "cell_type": "code",
   "source": [
    "# Definir rango de fechas (últimos dos años)\n",
    "start_date = \"2022-06-30\"\n",
    "end_date = \"2024-06-30\"\n",
    "\n",
    "# Obtener datos de precios históricos\n",
    "data = yf.download(tickers, start=start_date, end=end_date)\n"
   ],
   "id": "2b065ff0cb47a25a",
   "outputs": [
    {
     "name": "stderr",
     "output_type": "stream",
     "text": [
      "[*********************100%%**********************]  503 of 503 completed\n",
      "\n",
      "2 Failed downloads:\n",
      "['BRK.B']: Exception('%ticker%: No timezone found, symbol may be delisted')\n",
      "['BF.B']: Exception('%ticker%: No price data found, symbol may be delisted (1d 2022-06-30 -> 2024-06-30)')\n"
     ]
    }
   ],
   "execution_count": 10
  },
  {
   "metadata": {
    "ExecuteTime": {
     "end_time": "2024-06-30T21:25:39.951907Z",
     "start_time": "2024-06-30T21:25:38.963485Z"
    }
   },
   "cell_type": "code",
   "source": "data.to_csv('data.csv')",
   "id": "e54b21fe241e6519",
   "outputs": [],
   "execution_count": 16
  },
  {
   "metadata": {},
   "cell_type": "code",
   "outputs": [],
   "execution_count": null,
   "source": "",
   "id": "26e121444e702cf7"
  }
 ],
 "metadata": {
  "kernelspec": {
   "display_name": "Python 3",
   "language": "python",
   "name": "python3"
  },
  "language_info": {
   "codemirror_mode": {
    "name": "ipython",
    "version": 2
   },
   "file_extension": ".py",
   "mimetype": "text/x-python",
   "name": "python",
   "nbconvert_exporter": "python",
   "pygments_lexer": "ipython2",
   "version": "2.7.6"
  }
 },
 "nbformat": 4,
 "nbformat_minor": 5
}
