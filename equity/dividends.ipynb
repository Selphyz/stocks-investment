{
 "cells": [
  {
   "cell_type": "code",
   "id": "initial_id",
   "metadata": {
    "collapsed": true,
    "ExecuteTime": {
     "end_time": "2025-03-12T19:10:59.298307Z",
     "start_time": "2025-03-12T19:10:59.295307Z"
    }
   },
   "source": [
    "import pandas as pd\n",
    "import yfinance as yf\n",
    "import matplotlib.pyplot as plt"
   ],
   "outputs": [],
   "execution_count": 12
  },
  {
   "metadata": {
    "ExecuteTime": {
     "end_time": "2025-03-12T19:11:54.948433Z",
     "start_time": "2025-03-12T19:11:54.370080Z"
    }
   },
   "cell_type": "code",
   "source": [
    "ticker = 'MSFT'\n",
    "# df = yf.Ticker(ticker)\n",
    "# df.balance_sheet\n",
    "df = yf.Ticker(ticker)\n",
    "df.dividends"
   ],
   "id": "ce9b86332367efc9",
   "outputs": [
    {
     "name": "stderr",
     "output_type": "stream",
     "text": [
      "$MSFT: possibly delisted; no price data found  (1d 1926-04-06 -> 2025-03-12)\n"
     ]
    },
    {
     "data": {
      "text/plain": [
       "Series([], dtype: object)"
      ]
     },
     "execution_count": 18,
     "metadata": {},
     "output_type": "execute_result"
    }
   ],
   "execution_count": 18
  },
  {
   "metadata": {
    "ExecuteTime": {
     "end_time": "2025-03-12T18:53:05.502684Z",
     "start_time": "2025-03-12T18:53:05.481018Z"
    }
   },
   "cell_type": "code",
   "source": "divs",
   "id": "349cdb6d464f3a6f",
   "outputs": [
    {
     "ename": "NameError",
     "evalue": "name 'divs' is not defined",
     "output_type": "error",
     "traceback": [
      "\u001B[1;31m---------------------------------------------------------------------------\u001B[0m",
      "\u001B[1;31mNameError\u001B[0m                                 Traceback (most recent call last)",
      "Cell \u001B[1;32mIn[3], line 1\u001B[0m\n\u001B[1;32m----> 1\u001B[0m \u001B[43mdivs\u001B[49m\n",
      "\u001B[1;31mNameError\u001B[0m: name 'divs' is not defined"
     ]
    }
   ],
   "execution_count": 3
  },
  {
   "metadata": {
    "ExecuteTime": {
     "end_time": "2024-12-14T13:27:53.773233Z",
     "start_time": "2024-12-14T13:27:53.540674Z"
    }
   },
   "cell_type": "code",
   "source": [
    "df = df[df['Dividends'] > 0]\n",
    "df"
   ],
   "id": "7d62bb504c75d4dd",
   "outputs": [
    {
     "ename": "KeyError",
     "evalue": "'Dividends'",
     "output_type": "error",
     "traceback": [
      "\u001B[1;31m---------------------------------------------------------------------------\u001B[0m",
      "\u001B[1;31mDateParseError\u001B[0m                            Traceback (most recent call last)",
      "File \u001B[1;32m~\\AppData\\Local\\Packages\\PythonSoftwareFoundation.Python.3.12_qbz5n2kfra8p0\\LocalCache\\local-packages\\Python312\\site-packages\\pandas\\core\\indexes\\datetimes.py:603\u001B[0m, in \u001B[0;36mDatetimeIndex.get_loc\u001B[1;34m(self, key)\u001B[0m\n\u001B[0;32m    602\u001B[0m \u001B[38;5;28;01mtry\u001B[39;00m:\n\u001B[1;32m--> 603\u001B[0m     parsed, reso \u001B[38;5;241m=\u001B[39m \u001B[38;5;28;43mself\u001B[39;49m\u001B[38;5;241;43m.\u001B[39;49m\u001B[43m_parse_with_reso\u001B[49m\u001B[43m(\u001B[49m\u001B[43mkey\u001B[49m\u001B[43m)\u001B[49m\n\u001B[0;32m    604\u001B[0m \u001B[38;5;28;01mexcept\u001B[39;00m (\u001B[38;5;167;01mValueError\u001B[39;00m, pytz\u001B[38;5;241m.\u001B[39mNonExistentTimeError) \u001B[38;5;28;01mas\u001B[39;00m err:\n",
      "File \u001B[1;32m~\\AppData\\Local\\Packages\\PythonSoftwareFoundation.Python.3.12_qbz5n2kfra8p0\\LocalCache\\local-packages\\Python312\\site-packages\\pandas\\core\\indexes\\datetimes.py:559\u001B[0m, in \u001B[0;36mDatetimeIndex._parse_with_reso\u001B[1;34m(self, label)\u001B[0m\n\u001B[0;32m    558\u001B[0m \u001B[38;5;28;01mdef\u001B[39;00m \u001B[38;5;21m_parse_with_reso\u001B[39m(\u001B[38;5;28mself\u001B[39m, label: \u001B[38;5;28mstr\u001B[39m):\n\u001B[1;32m--> 559\u001B[0m     parsed, reso \u001B[38;5;241m=\u001B[39m \u001B[38;5;28;43msuper\u001B[39;49m\u001B[43m(\u001B[49m\u001B[43m)\u001B[49m\u001B[38;5;241;43m.\u001B[39;49m\u001B[43m_parse_with_reso\u001B[49m\u001B[43m(\u001B[49m\u001B[43mlabel\u001B[49m\u001B[43m)\u001B[49m\n\u001B[0;32m    561\u001B[0m     parsed \u001B[38;5;241m=\u001B[39m Timestamp(parsed)\n",
      "File \u001B[1;32m~\\AppData\\Local\\Packages\\PythonSoftwareFoundation.Python.3.12_qbz5n2kfra8p0\\LocalCache\\local-packages\\Python312\\site-packages\\pandas\\core\\indexes\\datetimelike.py:293\u001B[0m, in \u001B[0;36mDatetimeIndexOpsMixin._parse_with_reso\u001B[1;34m(self, label)\u001B[0m\n\u001B[0;32m    291\u001B[0m     label \u001B[38;5;241m=\u001B[39m \u001B[38;5;28mstr\u001B[39m(label)\n\u001B[1;32m--> 293\u001B[0m parsed, reso_str \u001B[38;5;241m=\u001B[39m \u001B[43mparsing\u001B[49m\u001B[38;5;241;43m.\u001B[39;49m\u001B[43mparse_datetime_string_with_reso\u001B[49m\u001B[43m(\u001B[49m\u001B[43mlabel\u001B[49m\u001B[43m,\u001B[49m\u001B[43m \u001B[49m\u001B[43mfreqstr\u001B[49m\u001B[43m)\u001B[49m\n\u001B[0;32m    294\u001B[0m reso \u001B[38;5;241m=\u001B[39m Resolution\u001B[38;5;241m.\u001B[39mfrom_attrname(reso_str)\n",
      "File \u001B[1;32mparsing.pyx:442\u001B[0m, in \u001B[0;36mpandas._libs.tslibs.parsing.parse_datetime_string_with_reso\u001B[1;34m()\u001B[0m\n",
      "File \u001B[1;32mparsing.pyx:666\u001B[0m, in \u001B[0;36mpandas._libs.tslibs.parsing.dateutil_parse\u001B[1;34m()\u001B[0m\n",
      "\u001B[1;31mDateParseError\u001B[0m: Unknown datetime string format, unable to parse: Dividends",
      "\nThe above exception was the direct cause of the following exception:\n",
      "\u001B[1;31mKeyError\u001B[0m                                  Traceback (most recent call last)",
      "Cell \u001B[1;32mIn[14], line 1\u001B[0m\n\u001B[1;32m----> 1\u001B[0m df \u001B[38;5;241m=\u001B[39m df[\u001B[43mdf\u001B[49m\u001B[43m[\u001B[49m\u001B[38;5;124;43m'\u001B[39;49m\u001B[38;5;124;43mDividends\u001B[39;49m\u001B[38;5;124;43m'\u001B[39;49m\u001B[43m]\u001B[49m \u001B[38;5;241m>\u001B[39m \u001B[38;5;241m0\u001B[39m]\n\u001B[0;32m      2\u001B[0m df\n",
      "File \u001B[1;32m~\\AppData\\Local\\Packages\\PythonSoftwareFoundation.Python.3.12_qbz5n2kfra8p0\\LocalCache\\local-packages\\Python312\\site-packages\\pandas\\core\\series.py:1121\u001B[0m, in \u001B[0;36mSeries.__getitem__\u001B[1;34m(self, key)\u001B[0m\n\u001B[0;32m   1118\u001B[0m     \u001B[38;5;28;01mreturn\u001B[39;00m \u001B[38;5;28mself\u001B[39m\u001B[38;5;241m.\u001B[39m_values[key]\n\u001B[0;32m   1120\u001B[0m \u001B[38;5;28;01melif\u001B[39;00m key_is_scalar:\n\u001B[1;32m-> 1121\u001B[0m     \u001B[38;5;28;01mreturn\u001B[39;00m \u001B[38;5;28;43mself\u001B[39;49m\u001B[38;5;241;43m.\u001B[39;49m\u001B[43m_get_value\u001B[49m\u001B[43m(\u001B[49m\u001B[43mkey\u001B[49m\u001B[43m)\u001B[49m\n\u001B[0;32m   1123\u001B[0m \u001B[38;5;66;03m# Convert generator to list before going through hashable part\u001B[39;00m\n\u001B[0;32m   1124\u001B[0m \u001B[38;5;66;03m# (We will iterate through the generator there to check for slices)\u001B[39;00m\n\u001B[0;32m   1125\u001B[0m \u001B[38;5;28;01mif\u001B[39;00m is_iterator(key):\n",
      "File \u001B[1;32m~\\AppData\\Local\\Packages\\PythonSoftwareFoundation.Python.3.12_qbz5n2kfra8p0\\LocalCache\\local-packages\\Python312\\site-packages\\pandas\\core\\series.py:1237\u001B[0m, in \u001B[0;36mSeries._get_value\u001B[1;34m(self, label, takeable)\u001B[0m\n\u001B[0;32m   1234\u001B[0m     \u001B[38;5;28;01mreturn\u001B[39;00m \u001B[38;5;28mself\u001B[39m\u001B[38;5;241m.\u001B[39m_values[label]\n\u001B[0;32m   1236\u001B[0m \u001B[38;5;66;03m# Similar to Index.get_value, but we do not fall back to positional\u001B[39;00m\n\u001B[1;32m-> 1237\u001B[0m loc \u001B[38;5;241m=\u001B[39m \u001B[38;5;28;43mself\u001B[39;49m\u001B[38;5;241;43m.\u001B[39;49m\u001B[43mindex\u001B[49m\u001B[38;5;241;43m.\u001B[39;49m\u001B[43mget_loc\u001B[49m\u001B[43m(\u001B[49m\u001B[43mlabel\u001B[49m\u001B[43m)\u001B[49m\n\u001B[0;32m   1239\u001B[0m \u001B[38;5;28;01mif\u001B[39;00m is_integer(loc):\n\u001B[0;32m   1240\u001B[0m     \u001B[38;5;28;01mreturn\u001B[39;00m \u001B[38;5;28mself\u001B[39m\u001B[38;5;241m.\u001B[39m_values[loc]\n",
      "File \u001B[1;32m~\\AppData\\Local\\Packages\\PythonSoftwareFoundation.Python.3.12_qbz5n2kfra8p0\\LocalCache\\local-packages\\Python312\\site-packages\\pandas\\core\\indexes\\datetimes.py:605\u001B[0m, in \u001B[0;36mDatetimeIndex.get_loc\u001B[1;34m(self, key)\u001B[0m\n\u001B[0;32m    603\u001B[0m     parsed, reso \u001B[38;5;241m=\u001B[39m \u001B[38;5;28mself\u001B[39m\u001B[38;5;241m.\u001B[39m_parse_with_reso(key)\n\u001B[0;32m    604\u001B[0m \u001B[38;5;28;01mexcept\u001B[39;00m (\u001B[38;5;167;01mValueError\u001B[39;00m, pytz\u001B[38;5;241m.\u001B[39mNonExistentTimeError) \u001B[38;5;28;01mas\u001B[39;00m err:\n\u001B[1;32m--> 605\u001B[0m     \u001B[38;5;28;01mraise\u001B[39;00m \u001B[38;5;167;01mKeyError\u001B[39;00m(key) \u001B[38;5;28;01mfrom\u001B[39;00m \u001B[38;5;21;01merr\u001B[39;00m\n\u001B[0;32m    606\u001B[0m \u001B[38;5;28mself\u001B[39m\u001B[38;5;241m.\u001B[39m_disallow_mismatched_indexing(parsed)\n\u001B[0;32m    608\u001B[0m \u001B[38;5;28;01mif\u001B[39;00m \u001B[38;5;28mself\u001B[39m\u001B[38;5;241m.\u001B[39m_can_partial_date_slice(reso):\n",
      "\u001B[1;31mKeyError\u001B[0m: 'Dividends'"
     ]
    }
   ],
   "execution_count": 14
  },
  {
   "metadata": {
    "ExecuteTime": {
     "end_time": "2025-03-12T19:12:10.982430Z",
     "start_time": "2025-03-12T19:12:10.680101Z"
    }
   },
   "cell_type": "code",
   "source": [
    "ticker = 'KO'\n",
    "df = yf.Ticker(ticker)\n",
    "df.dividends"
   ],
   "id": "4e7a8b7f0bedd0e",
   "outputs": [
    {
     "name": "stderr",
     "output_type": "stream",
     "text": [
      "$KO: possibly delisted; no price data found  (1d 1926-04-06 -> 2025-03-12)\n"
     ]
    },
    {
     "data": {
      "text/plain": [
       "Series([], dtype: object)"
      ]
     },
     "execution_count": 19,
     "metadata": {},
     "output_type": "execute_result"
    }
   ],
   "execution_count": 19
  },
  {
   "metadata": {
    "ExecuteTime": {
     "end_time": "2024-12-14T13:27:27.323405700Z",
     "start_time": "2024-10-27T16:41:12.634845Z"
    }
   },
   "cell_type": "code",
   "source": "",
   "id": "8a183f0fceda0c33",
   "outputs": [],
   "execution_count": null
  }
 ],
 "metadata": {
  "kernelspec": {
   "display_name": "Python 3",
   "language": "python",
   "name": "python3"
  },
  "language_info": {
   "codemirror_mode": {
    "name": "ipython",
    "version": 2
   },
   "file_extension": ".py",
   "mimetype": "text/x-python",
   "name": "python",
   "nbconvert_exporter": "python",
   "pygments_lexer": "ipython2",
   "version": "2.7.6"
  }
 },
 "nbformat": 4,
 "nbformat_minor": 5
}
