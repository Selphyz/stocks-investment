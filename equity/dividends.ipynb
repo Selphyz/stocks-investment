{
 "cells": [
  {
   "cell_type": "code",
   "id": "initial_id",
   "metadata": {
    "collapsed": true,
    "ExecuteTime": {
     "end_time": "2024-11-20T21:46:18.350800Z",
     "start_time": "2024-11-20T21:46:18.348296Z"
    }
   },
   "source": [
    "import pandas as pd\n",
    "import yfinance as yf\n",
    "import matplotlib.pyplot as plt"
   ],
   "outputs": [],
   "execution_count": 18
  },
  {
   "metadata": {
    "ExecuteTime": {
     "end_time": "2024-11-20T21:46:18.363675Z",
     "start_time": "2024-11-20T21:46:18.361313Z"
    }
   },
   "cell_type": "code",
   "source": [
    "ticker = 'MSFT'\n",
    "# df = yf.Ticker(ticker)\n",
    "# df.balance_sheet\n",
    "df = yf.ticker"
   ],
   "id": "ce9b86332367efc9",
   "outputs": [],
   "execution_count": 19
  },
  {
   "metadata": {
    "ExecuteTime": {
     "end_time": "2024-11-20T21:46:18.397071Z",
     "start_time": "2024-11-20T21:46:18.393944Z"
    }
   },
   "cell_type": "code",
   "source": "df",
   "id": "349cdb6d464f3a6f",
   "outputs": [
    {
     "data": {
      "text/plain": [
       "<module 'yfinance.ticker' from 'C:\\\\Users\\\\Carlo\\\\AppData\\\\Local\\\\Packages\\\\PythonSoftwareFoundation.Python.3.12_qbz5n2kfra8p0\\\\LocalCache\\\\local-packages\\\\Python312\\\\site-packages\\\\yfinance\\\\ticker.py'>"
      ]
     },
     "execution_count": 20,
     "metadata": {},
     "output_type": "execute_result"
    }
   ],
   "execution_count": 20
  },
  {
   "metadata": {
    "ExecuteTime": {
     "end_time": "2024-11-20T21:46:18.490822Z",
     "start_time": "2024-11-20T21:46:18.481319Z"
    }
   },
   "cell_type": "code",
   "source": [
    "df = df[df['Dividends'] > 0]\n",
    "df"
   ],
   "id": "7d62bb504c75d4dd",
   "outputs": [
    {
     "ename": "TypeError",
     "evalue": "'module' object is not subscriptable",
     "output_type": "error",
     "traceback": [
      "\u001B[1;31m---------------------------------------------------------------------------\u001B[0m",
      "\u001B[1;31mTypeError\u001B[0m                                 Traceback (most recent call last)",
      "Cell \u001B[1;32mIn[21], line 1\u001B[0m\n\u001B[1;32m----> 1\u001B[0m df \u001B[38;5;241m=\u001B[39m df[\u001B[43mdf\u001B[49m\u001B[43m[\u001B[49m\u001B[38;5;124;43m'\u001B[39;49m\u001B[38;5;124;43mDividends\u001B[39;49m\u001B[38;5;124;43m'\u001B[39;49m\u001B[43m]\u001B[49m \u001B[38;5;241m>\u001B[39m \u001B[38;5;241m0\u001B[39m]\n\u001B[0;32m      2\u001B[0m df\n",
      "\u001B[1;31mTypeError\u001B[0m: 'module' object is not subscriptable"
     ]
    }
   ],
   "execution_count": 21
  },
  {
   "metadata": {
    "ExecuteTime": {
     "end_time": "2024-11-20T21:46:18.567400800Z",
     "start_time": "2024-11-20T21:18:46.815468Z"
    }
   },
   "cell_type": "code",
   "source": [
    "ticker = 'KO'\n",
    "df = yf.Ticker(ticker)\n",
    "df.dividends"
   ],
   "id": "4e7a8b7f0bedd0e",
   "outputs": [
    {
     "data": {
      "text/plain": [
       "Date\n",
       "1962-03-13 00:00:00-05:00    0.001563\n",
       "1962-06-11 00:00:00-04:00    0.001563\n",
       "1962-09-11 00:00:00-04:00    0.001563\n",
       "1962-11-28 00:00:00-05:00    0.001563\n",
       "1963-03-11 00:00:00-05:00    0.001758\n",
       "                               ...   \n",
       "2023-09-14 00:00:00-04:00    0.460000\n",
       "2023-11-30 00:00:00-05:00    0.460000\n",
       "2024-03-14 00:00:00-04:00    0.485000\n",
       "2024-06-14 00:00:00-04:00    0.485000\n",
       "2024-09-13 00:00:00-04:00    0.485000\n",
       "Name: Dividends, Length: 251, dtype: float64"
      ]
     },
     "execution_count": 17,
     "metadata": {},
     "output_type": "execute_result"
    }
   ],
   "execution_count": 17
  },
  {
   "metadata": {
    "ExecuteTime": {
     "end_time": "2024-11-20T21:46:18.567400800Z",
     "start_time": "2024-10-27T16:41:12.598926Z"
    }
   },
   "cell_type": "code",
   "source": "dividend_df",
   "id": "163dd90b930a59fe",
   "outputs": [
    {
     "data": {
      "text/plain": [
       "Price                     Adj Close Close Dividends High  Low Open  \\\n",
       "Ticker                         MSFT  MSFT      MSFT MSFT MSFT MSFT   \n",
       "Date                                                                 \n",
       "2014-10-27 00:00:00+00:00       NaN   NaN       NaN  NaN  NaN  NaN   \n",
       "2014-10-28 00:00:00+00:00       NaN   NaN       NaN  NaN  NaN  NaN   \n",
       "2014-10-29 00:00:00+00:00       NaN   NaN       NaN  NaN  NaN  NaN   \n",
       "2014-10-30 00:00:00+00:00       NaN   NaN       NaN  NaN  NaN  NaN   \n",
       "2014-10-31 00:00:00+00:00       NaN   NaN       NaN  NaN  NaN  NaN   \n",
       "...                             ...   ...       ...  ...  ...  ...   \n",
       "2024-10-21 00:00:00+00:00       NaN   NaN       NaN  NaN  NaN  NaN   \n",
       "2024-10-22 00:00:00+00:00       NaN   NaN       NaN  NaN  NaN  NaN   \n",
       "2024-10-23 00:00:00+00:00       NaN   NaN       NaN  NaN  NaN  NaN   \n",
       "2024-10-24 00:00:00+00:00       NaN   NaN       NaN  NaN  NaN  NaN   \n",
       "2024-10-25 00:00:00+00:00       NaN   NaN       NaN  NaN  NaN  NaN   \n",
       "\n",
       "Price                     Stock Splits Volume  \n",
       "Ticker                            MSFT   MSFT  \n",
       "Date                                           \n",
       "2014-10-27 00:00:00+00:00          NaN    NaN  \n",
       "2014-10-28 00:00:00+00:00          NaN    NaN  \n",
       "2014-10-29 00:00:00+00:00          NaN    NaN  \n",
       "2014-10-30 00:00:00+00:00          NaN    NaN  \n",
       "2014-10-31 00:00:00+00:00          NaN    NaN  \n",
       "...                                ...    ...  \n",
       "2024-10-21 00:00:00+00:00          NaN    NaN  \n",
       "2024-10-22 00:00:00+00:00          NaN    NaN  \n",
       "2024-10-23 00:00:00+00:00          NaN    NaN  \n",
       "2024-10-24 00:00:00+00:00          NaN    NaN  \n",
       "2024-10-25 00:00:00+00:00          NaN    NaN  \n",
       "\n",
       "[2517 rows x 8 columns]"
      ],
      "text/html": [
       "<div>\n",
       "<style scoped>\n",
       "    .dataframe tbody tr th:only-of-type {\n",
       "        vertical-align: middle;\n",
       "    }\n",
       "\n",
       "    .dataframe tbody tr th {\n",
       "        vertical-align: top;\n",
       "    }\n",
       "\n",
       "    .dataframe thead tr th {\n",
       "        text-align: left;\n",
       "    }\n",
       "\n",
       "    .dataframe thead tr:last-of-type th {\n",
       "        text-align: right;\n",
       "    }\n",
       "</style>\n",
       "<table border=\"1\" class=\"dataframe\">\n",
       "  <thead>\n",
       "    <tr>\n",
       "      <th>Price</th>\n",
       "      <th>Adj Close</th>\n",
       "      <th>Close</th>\n",
       "      <th>Dividends</th>\n",
       "      <th>High</th>\n",
       "      <th>Low</th>\n",
       "      <th>Open</th>\n",
       "      <th>Stock Splits</th>\n",
       "      <th>Volume</th>\n",
       "    </tr>\n",
       "    <tr>\n",
       "      <th>Ticker</th>\n",
       "      <th>MSFT</th>\n",
       "      <th>MSFT</th>\n",
       "      <th>MSFT</th>\n",
       "      <th>MSFT</th>\n",
       "      <th>MSFT</th>\n",
       "      <th>MSFT</th>\n",
       "      <th>MSFT</th>\n",
       "      <th>MSFT</th>\n",
       "    </tr>\n",
       "    <tr>\n",
       "      <th>Date</th>\n",
       "      <th></th>\n",
       "      <th></th>\n",
       "      <th></th>\n",
       "      <th></th>\n",
       "      <th></th>\n",
       "      <th></th>\n",
       "      <th></th>\n",
       "      <th></th>\n",
       "    </tr>\n",
       "  </thead>\n",
       "  <tbody>\n",
       "    <tr>\n",
       "      <th>2014-10-27 00:00:00+00:00</th>\n",
       "      <td>NaN</td>\n",
       "      <td>NaN</td>\n",
       "      <td>NaN</td>\n",
       "      <td>NaN</td>\n",
       "      <td>NaN</td>\n",
       "      <td>NaN</td>\n",
       "      <td>NaN</td>\n",
       "      <td>NaN</td>\n",
       "    </tr>\n",
       "    <tr>\n",
       "      <th>2014-10-28 00:00:00+00:00</th>\n",
       "      <td>NaN</td>\n",
       "      <td>NaN</td>\n",
       "      <td>NaN</td>\n",
       "      <td>NaN</td>\n",
       "      <td>NaN</td>\n",
       "      <td>NaN</td>\n",
       "      <td>NaN</td>\n",
       "      <td>NaN</td>\n",
       "    </tr>\n",
       "    <tr>\n",
       "      <th>2014-10-29 00:00:00+00:00</th>\n",
       "      <td>NaN</td>\n",
       "      <td>NaN</td>\n",
       "      <td>NaN</td>\n",
       "      <td>NaN</td>\n",
       "      <td>NaN</td>\n",
       "      <td>NaN</td>\n",
       "      <td>NaN</td>\n",
       "      <td>NaN</td>\n",
       "    </tr>\n",
       "    <tr>\n",
       "      <th>2014-10-30 00:00:00+00:00</th>\n",
       "      <td>NaN</td>\n",
       "      <td>NaN</td>\n",
       "      <td>NaN</td>\n",
       "      <td>NaN</td>\n",
       "      <td>NaN</td>\n",
       "      <td>NaN</td>\n",
       "      <td>NaN</td>\n",
       "      <td>NaN</td>\n",
       "    </tr>\n",
       "    <tr>\n",
       "      <th>2014-10-31 00:00:00+00:00</th>\n",
       "      <td>NaN</td>\n",
       "      <td>NaN</td>\n",
       "      <td>NaN</td>\n",
       "      <td>NaN</td>\n",
       "      <td>NaN</td>\n",
       "      <td>NaN</td>\n",
       "      <td>NaN</td>\n",
       "      <td>NaN</td>\n",
       "    </tr>\n",
       "    <tr>\n",
       "      <th>...</th>\n",
       "      <td>...</td>\n",
       "      <td>...</td>\n",
       "      <td>...</td>\n",
       "      <td>...</td>\n",
       "      <td>...</td>\n",
       "      <td>...</td>\n",
       "      <td>...</td>\n",
       "      <td>...</td>\n",
       "    </tr>\n",
       "    <tr>\n",
       "      <th>2024-10-21 00:00:00+00:00</th>\n",
       "      <td>NaN</td>\n",
       "      <td>NaN</td>\n",
       "      <td>NaN</td>\n",
       "      <td>NaN</td>\n",
       "      <td>NaN</td>\n",
       "      <td>NaN</td>\n",
       "      <td>NaN</td>\n",
       "      <td>NaN</td>\n",
       "    </tr>\n",
       "    <tr>\n",
       "      <th>2024-10-22 00:00:00+00:00</th>\n",
       "      <td>NaN</td>\n",
       "      <td>NaN</td>\n",
       "      <td>NaN</td>\n",
       "      <td>NaN</td>\n",
       "      <td>NaN</td>\n",
       "      <td>NaN</td>\n",
       "      <td>NaN</td>\n",
       "      <td>NaN</td>\n",
       "    </tr>\n",
       "    <tr>\n",
       "      <th>2024-10-23 00:00:00+00:00</th>\n",
       "      <td>NaN</td>\n",
       "      <td>NaN</td>\n",
       "      <td>NaN</td>\n",
       "      <td>NaN</td>\n",
       "      <td>NaN</td>\n",
       "      <td>NaN</td>\n",
       "      <td>NaN</td>\n",
       "      <td>NaN</td>\n",
       "    </tr>\n",
       "    <tr>\n",
       "      <th>2024-10-24 00:00:00+00:00</th>\n",
       "      <td>NaN</td>\n",
       "      <td>NaN</td>\n",
       "      <td>NaN</td>\n",
       "      <td>NaN</td>\n",
       "      <td>NaN</td>\n",
       "      <td>NaN</td>\n",
       "      <td>NaN</td>\n",
       "      <td>NaN</td>\n",
       "    </tr>\n",
       "    <tr>\n",
       "      <th>2024-10-25 00:00:00+00:00</th>\n",
       "      <td>NaN</td>\n",
       "      <td>NaN</td>\n",
       "      <td>NaN</td>\n",
       "      <td>NaN</td>\n",
       "      <td>NaN</td>\n",
       "      <td>NaN</td>\n",
       "      <td>NaN</td>\n",
       "      <td>NaN</td>\n",
       "    </tr>\n",
       "  </tbody>\n",
       "</table>\n",
       "<p>2517 rows × 8 columns</p>\n",
       "</div>"
      ]
     },
     "execution_count": 66,
     "metadata": {},
     "output_type": "execute_result"
    }
   ],
   "execution_count": 66
  },
  {
   "metadata": {
    "ExecuteTime": {
     "end_time": "2024-11-20T21:46:18.567400800Z",
     "start_time": "2024-10-27T16:41:12.634845Z"
    }
   },
   "cell_type": "code",
   "source": "",
   "id": "8a183f0fceda0c33",
   "outputs": [],
   "execution_count": null
  }
 ],
 "metadata": {
  "kernelspec": {
   "display_name": "Python 3",
   "language": "python",
   "name": "python3"
  },
  "language_info": {
   "codemirror_mode": {
    "name": "ipython",
    "version": 2
   },
   "file_extension": ".py",
   "mimetype": "text/x-python",
   "name": "python",
   "nbconvert_exporter": "python",
   "pygments_lexer": "ipython2",
   "version": "2.7.6"
  }
 },
 "nbformat": 4,
 "nbformat_minor": 5
}
