{
 "cells": [
  {
   "metadata": {
    "ExecuteTime": {
     "end_time": "2024-09-25T20:02:45.978650Z",
     "start_time": "2024-09-25T20:02:45.420632Z"
    }
   },
   "cell_type": "code",
   "source": [
    "import yfinance as yf\n",
    "import pandas as pd"
   ],
   "id": "86aac39102fd0d27",
   "outputs": [],
   "execution_count": 1
  },
  {
   "metadata": {
    "ExecuteTime": {
     "end_time": "2024-09-25T20:24:14.738963Z",
     "start_time": "2024-09-25T20:24:14.722747Z"
    }
   },
   "cell_type": "code",
   "source": [
    "df = yf.download(tickers='AAPL', start='1y', actions=True)\n",
    "df"
   ],
   "id": "d639fa570936762d",
   "outputs": [
    {
     "name": "stderr",
     "output_type": "stream",
     "text": [
      "[*********************100%%**********************]  1 of 1 completed\n",
      "\n",
      "1 Failed download:\n",
      "['AAPL']: ValueError(\"time data '1y' does not match format '%Y-%m-%d'\")\n"
     ]
    },
    {
     "data": {
      "text/plain": [
       "Empty DataFrame\n",
       "Columns: [Open, High, Low, Close, Adj Close, Volume]\n",
       "Index: []"
      ],
      "text/html": [
       "<div>\n",
       "<style scoped>\n",
       "    .dataframe tbody tr th:only-of-type {\n",
       "        vertical-align: middle;\n",
       "    }\n",
       "\n",
       "    .dataframe tbody tr th {\n",
       "        vertical-align: top;\n",
       "    }\n",
       "\n",
       "    .dataframe thead th {\n",
       "        text-align: right;\n",
       "    }\n",
       "</style>\n",
       "<table border=\"1\" class=\"dataframe\">\n",
       "  <thead>\n",
       "    <tr style=\"text-align: right;\">\n",
       "      <th></th>\n",
       "      <th>Open</th>\n",
       "      <th>High</th>\n",
       "      <th>Low</th>\n",
       "      <th>Close</th>\n",
       "      <th>Adj Close</th>\n",
       "      <th>Volume</th>\n",
       "    </tr>\n",
       "    <tr>\n",
       "      <th>Date</th>\n",
       "      <th></th>\n",
       "      <th></th>\n",
       "      <th></th>\n",
       "      <th></th>\n",
       "      <th></th>\n",
       "      <th></th>\n",
       "    </tr>\n",
       "  </thead>\n",
       "  <tbody>\n",
       "  </tbody>\n",
       "</table>\n",
       "</div>"
      ]
     },
     "execution_count": 8,
     "metadata": {},
     "output_type": "execute_result"
    }
   ],
   "execution_count": 8
  },
  {
   "metadata": {
    "ExecuteTime": {
     "end_time": "2024-09-25T20:08:26.741827Z",
     "start_time": "2024-09-25T20:08:26.734930Z"
    }
   },
   "cell_type": "code",
   "source": "df.loc['2024':]",
   "id": "e72c3a7acdbe30ac",
   "outputs": [
    {
     "data": {
      "text/plain": [
       "                  Open        High         Low       Close   Adj Close  \\\n",
       "Date                                                                     \n",
       "2024-01-02  187.149994  188.440002  183.889999  185.639999  184.938217   \n",
       "2024-01-03  184.220001  185.880005  183.429993  184.250000  183.553482   \n",
       "2024-01-04  182.149994  183.089996  180.880005  181.910004  181.222336   \n",
       "2024-01-05  181.990005  182.759995  180.169998  181.179993  180.495071   \n",
       "2024-01-08  182.089996  185.600006  181.500000  185.559998  184.858521   \n",
       "...                ...         ...         ...         ...         ...   \n",
       "2024-09-19  224.990005  229.820007  224.630005  228.869995  228.869995   \n",
       "2024-09-20  229.970001  233.089996  227.619995  228.199997  228.199997   \n",
       "2024-09-23  227.339996  229.449997  225.809998  226.470001  226.470001   \n",
       "2024-09-24  228.649994  229.350006  225.729996  227.369995  227.369995   \n",
       "2024-09-25  224.929993  227.289993  224.029999  226.369995  226.369995   \n",
       "\n",
       "               Volume  \n",
       "Date                   \n",
       "2024-01-02   82488700  \n",
       "2024-01-03   58414500  \n",
       "2024-01-04   71983600  \n",
       "2024-01-05   62303300  \n",
       "2024-01-08   59144500  \n",
       "...               ...  \n",
       "2024-09-19   66781300  \n",
       "2024-09-20  318679900  \n",
       "2024-09-23   54146000  \n",
       "2024-09-24   43556100  \n",
       "2024-09-25   40779133  \n",
       "\n",
       "[185 rows x 6 columns]"
      ],
      "text/html": [
       "<div>\n",
       "<style scoped>\n",
       "    .dataframe tbody tr th:only-of-type {\n",
       "        vertical-align: middle;\n",
       "    }\n",
       "\n",
       "    .dataframe tbody tr th {\n",
       "        vertical-align: top;\n",
       "    }\n",
       "\n",
       "    .dataframe thead th {\n",
       "        text-align: right;\n",
       "    }\n",
       "</style>\n",
       "<table border=\"1\" class=\"dataframe\">\n",
       "  <thead>\n",
       "    <tr style=\"text-align: right;\">\n",
       "      <th></th>\n",
       "      <th>Open</th>\n",
       "      <th>High</th>\n",
       "      <th>Low</th>\n",
       "      <th>Close</th>\n",
       "      <th>Adj Close</th>\n",
       "      <th>Volume</th>\n",
       "    </tr>\n",
       "    <tr>\n",
       "      <th>Date</th>\n",
       "      <th></th>\n",
       "      <th></th>\n",
       "      <th></th>\n",
       "      <th></th>\n",
       "      <th></th>\n",
       "      <th></th>\n",
       "    </tr>\n",
       "  </thead>\n",
       "  <tbody>\n",
       "    <tr>\n",
       "      <th>2024-01-02</th>\n",
       "      <td>187.149994</td>\n",
       "      <td>188.440002</td>\n",
       "      <td>183.889999</td>\n",
       "      <td>185.639999</td>\n",
       "      <td>184.938217</td>\n",
       "      <td>82488700</td>\n",
       "    </tr>\n",
       "    <tr>\n",
       "      <th>2024-01-03</th>\n",
       "      <td>184.220001</td>\n",
       "      <td>185.880005</td>\n",
       "      <td>183.429993</td>\n",
       "      <td>184.250000</td>\n",
       "      <td>183.553482</td>\n",
       "      <td>58414500</td>\n",
       "    </tr>\n",
       "    <tr>\n",
       "      <th>2024-01-04</th>\n",
       "      <td>182.149994</td>\n",
       "      <td>183.089996</td>\n",
       "      <td>180.880005</td>\n",
       "      <td>181.910004</td>\n",
       "      <td>181.222336</td>\n",
       "      <td>71983600</td>\n",
       "    </tr>\n",
       "    <tr>\n",
       "      <th>2024-01-05</th>\n",
       "      <td>181.990005</td>\n",
       "      <td>182.759995</td>\n",
       "      <td>180.169998</td>\n",
       "      <td>181.179993</td>\n",
       "      <td>180.495071</td>\n",
       "      <td>62303300</td>\n",
       "    </tr>\n",
       "    <tr>\n",
       "      <th>2024-01-08</th>\n",
       "      <td>182.089996</td>\n",
       "      <td>185.600006</td>\n",
       "      <td>181.500000</td>\n",
       "      <td>185.559998</td>\n",
       "      <td>184.858521</td>\n",
       "      <td>59144500</td>\n",
       "    </tr>\n",
       "    <tr>\n",
       "      <th>...</th>\n",
       "      <td>...</td>\n",
       "      <td>...</td>\n",
       "      <td>...</td>\n",
       "      <td>...</td>\n",
       "      <td>...</td>\n",
       "      <td>...</td>\n",
       "    </tr>\n",
       "    <tr>\n",
       "      <th>2024-09-19</th>\n",
       "      <td>224.990005</td>\n",
       "      <td>229.820007</td>\n",
       "      <td>224.630005</td>\n",
       "      <td>228.869995</td>\n",
       "      <td>228.869995</td>\n",
       "      <td>66781300</td>\n",
       "    </tr>\n",
       "    <tr>\n",
       "      <th>2024-09-20</th>\n",
       "      <td>229.970001</td>\n",
       "      <td>233.089996</td>\n",
       "      <td>227.619995</td>\n",
       "      <td>228.199997</td>\n",
       "      <td>228.199997</td>\n",
       "      <td>318679900</td>\n",
       "    </tr>\n",
       "    <tr>\n",
       "      <th>2024-09-23</th>\n",
       "      <td>227.339996</td>\n",
       "      <td>229.449997</td>\n",
       "      <td>225.809998</td>\n",
       "      <td>226.470001</td>\n",
       "      <td>226.470001</td>\n",
       "      <td>54146000</td>\n",
       "    </tr>\n",
       "    <tr>\n",
       "      <th>2024-09-24</th>\n",
       "      <td>228.649994</td>\n",
       "      <td>229.350006</td>\n",
       "      <td>225.729996</td>\n",
       "      <td>227.369995</td>\n",
       "      <td>227.369995</td>\n",
       "      <td>43556100</td>\n",
       "    </tr>\n",
       "    <tr>\n",
       "      <th>2024-09-25</th>\n",
       "      <td>224.929993</td>\n",
       "      <td>227.289993</td>\n",
       "      <td>224.029999</td>\n",
       "      <td>226.369995</td>\n",
       "      <td>226.369995</td>\n",
       "      <td>40779133</td>\n",
       "    </tr>\n",
       "  </tbody>\n",
       "</table>\n",
       "<p>185 rows × 6 columns</p>\n",
       "</div>"
      ]
     },
     "execution_count": 7,
     "metadata": {},
     "output_type": "execute_result"
    }
   ],
   "execution_count": 7
  },
  {
   "metadata": {
    "ExecuteTime": {
     "end_time": "2024-09-25T20:26:28.014726Z",
     "start_time": "2024-09-25T20:26:28.012238Z"
    }
   },
   "cell_type": "code",
   "source": "stock = yf.Ticker('AAPL')",
   "id": "76b765c8ac75956c",
   "outputs": [],
   "execution_count": 9
  },
  {
   "metadata": {
    "ExecuteTime": {
     "end_time": "2024-09-25T20:30:29.713627Z",
     "start_time": "2024-09-25T20:30:29.708999Z"
    }
   },
   "cell_type": "code",
   "source": "stock.dividends.loc['2022':].sum()",
   "id": "e984f9e9bc6c7f9",
   "outputs": [
    {
     "data": {
      "text/plain": [
       "2.5999999999999996"
      ]
     },
     "execution_count": 17,
     "metadata": {},
     "output_type": "execute_result"
    }
   ],
   "execution_count": 17
  },
  {
   "metadata": {},
   "cell_type": "code",
   "outputs": [],
   "execution_count": null,
   "source": "",
   "id": "f555e2c661bc3b81"
  }
 ],
 "metadata": {
  "kernelspec": {
   "display_name": "Python 3",
   "language": "python",
   "name": "python3"
  },
  "language_info": {
   "codemirror_mode": {
    "name": "ipython",
    "version": 2
   },
   "file_extension": ".py",
   "mimetype": "text/x-python",
   "name": "python",
   "nbconvert_exporter": "python",
   "pygments_lexer": "ipython2",
   "version": "2.7.6"
  }
 },
 "nbformat": 4,
 "nbformat_minor": 5
}
