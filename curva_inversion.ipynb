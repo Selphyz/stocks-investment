{
 "cells": [
  {
   "cell_type": "code",
   "id": "86aac39102fd0d27",
   "metadata": {
    "ExecuteTime": {
     "end_time": "2024-11-20T21:22:48.053625Z",
     "start_time": "2024-11-20T21:22:48.051500Z"
    }
   },
   "source": [
    "import yfinance as yf\n",
    "import pandas as pd"
   ],
   "outputs": [],
   "execution_count": 9
  },
  {
   "cell_type": "code",
   "id": "d639fa570936762d",
   "metadata": {
    "ExecuteTime": {
     "end_time": "2024-11-20T21:45:54.303683Z",
     "start_time": "2024-11-20T21:45:54.124076Z"
    }
   },
   "source": [
    "df = yf.Ticker(\"ITX.MC\").history(period=\"5y\", interval=\"1d\")\n",
    "df = df[df[\"Dividends\"] > 0]\n",
    "tick = yf.download(\"ITX.MC\", period=\"5y\", interval=\"1d\")"
   ],
   "outputs": [
    {
     "name": "stderr",
     "output_type": "stream",
     "text": [
      "[*********************100%***********************]  1 of 1 completed\n"
     ]
    }
   ],
   "execution_count": 34
  },
  {
   "metadata": {
    "ExecuteTime": {
     "end_time": "2024-11-20T21:45:35.902102Z",
     "start_time": "2024-11-20T21:45:35.898804Z"
    }
   },
   "cell_type": "code",
   "source": "",
   "id": "954bb03a1f2ffa15",
   "outputs": [
    {
     "data": {
      "text/plain": [
       "<module 'yfinance' from 'C:\\\\Users\\\\Carlo\\\\AppData\\\\Local\\\\Packages\\\\PythonSoftwareFoundation.Python.3.12_qbz5n2kfra8p0\\\\LocalCache\\\\local-packages\\\\Python312\\\\site-packages\\\\yfinance\\\\__init__.py'>"
      ]
     },
     "execution_count": 33,
     "metadata": {},
     "output_type": "execute_result"
    }
   ],
   "execution_count": 33
  },
  {
   "cell_type": "code",
   "id": "b13b715e",
   "metadata": {
    "ExecuteTime": {
     "end_time": "2024-11-20T21:26:55.705886Z",
     "start_time": "2024-11-20T21:26:55.701517Z"
    }
   },
   "source": [
    "df = df[df['Dividends'] > 0]\n",
    "df['Dividends']"
   ],
   "outputs": [
    {
     "data": {
      "text/plain": [
       "Date\n",
       "2019-11-29 00:00:00-05:00    0.400\n",
       "2020-03-13 00:00:00-04:00    0.410\n",
       "2020-06-12 00:00:00-04:00    0.410\n",
       "2020-09-14 00:00:00-04:00    0.410\n",
       "2020-11-30 00:00:00-05:00    0.410\n",
       "2021-03-12 00:00:00-05:00    0.420\n",
       "2021-06-14 00:00:00-04:00    0.420\n",
       "2021-09-14 00:00:00-04:00    0.420\n",
       "2021-11-30 00:00:00-05:00    0.420\n",
       "2022-03-14 00:00:00-04:00    0.440\n",
       "2022-06-14 00:00:00-04:00    0.440\n",
       "2022-09-15 00:00:00-04:00    0.440\n",
       "2022-11-30 00:00:00-05:00    0.440\n",
       "2023-03-16 00:00:00-04:00    0.460\n",
       "2023-06-15 00:00:00-04:00    0.460\n",
       "2023-09-14 00:00:00-04:00    0.460\n",
       "2023-11-30 00:00:00-05:00    0.460\n",
       "2024-03-14 00:00:00-04:00    0.485\n",
       "2024-06-14 00:00:00-04:00    0.485\n",
       "2024-09-13 00:00:00-04:00    0.485\n",
       "Name: Dividends, dtype: float64"
      ]
     },
     "execution_count": 25,
     "metadata": {},
     "output_type": "execute_result"
    }
   ],
   "execution_count": 25
  },
  {
   "cell_type": "code",
   "id": "e72c3a7acdbe30ac",
   "metadata": {
    "ExecuteTime": {
     "end_time": "2024-11-20T21:27:25.491293Z",
     "start_time": "2024-11-20T21:27:25.485881Z"
    }
   },
   "source": [
    "df.loc['2024':]"
   ],
   "outputs": [
    {
     "data": {
      "text/plain": [
       "                                Open       High        Low      Close  \\\n",
       "Date                                                                    \n",
       "2024-03-14 00:00:00-04:00  59.704250  59.921067  59.526851  59.625404   \n",
       "2024-06-14 00:00:00-04:00  61.955259  62.263146  61.667233  62.124100   \n",
       "2024-09-13 00:00:00-04:00  70.839996  71.470001  70.480003  71.410004   \n",
       "\n",
       "                             Volume  Dividends  Stock Splits  \n",
       "Date                                                          \n",
       "2024-03-14 00:00:00-04:00  13996600      0.485           0.0  \n",
       "2024-06-14 00:00:00-04:00   8179200      0.485           0.0  \n",
       "2024-09-13 00:00:00-04:00  11073800      0.485           0.0  "
      ],
      "text/html": [
       "<div>\n",
       "<style scoped>\n",
       "    .dataframe tbody tr th:only-of-type {\n",
       "        vertical-align: middle;\n",
       "    }\n",
       "\n",
       "    .dataframe tbody tr th {\n",
       "        vertical-align: top;\n",
       "    }\n",
       "\n",
       "    .dataframe thead th {\n",
       "        text-align: right;\n",
       "    }\n",
       "</style>\n",
       "<table border=\"1\" class=\"dataframe\">\n",
       "  <thead>\n",
       "    <tr style=\"text-align: right;\">\n",
       "      <th></th>\n",
       "      <th>Open</th>\n",
       "      <th>High</th>\n",
       "      <th>Low</th>\n",
       "      <th>Close</th>\n",
       "      <th>Volume</th>\n",
       "      <th>Dividends</th>\n",
       "      <th>Stock Splits</th>\n",
       "    </tr>\n",
       "    <tr>\n",
       "      <th>Date</th>\n",
       "      <th></th>\n",
       "      <th></th>\n",
       "      <th></th>\n",
       "      <th></th>\n",
       "      <th></th>\n",
       "      <th></th>\n",
       "      <th></th>\n",
       "    </tr>\n",
       "  </thead>\n",
       "  <tbody>\n",
       "    <tr>\n",
       "      <th>2024-03-14 00:00:00-04:00</th>\n",
       "      <td>59.704250</td>\n",
       "      <td>59.921067</td>\n",
       "      <td>59.526851</td>\n",
       "      <td>59.625404</td>\n",
       "      <td>13996600</td>\n",
       "      <td>0.485</td>\n",
       "      <td>0.0</td>\n",
       "    </tr>\n",
       "    <tr>\n",
       "      <th>2024-06-14 00:00:00-04:00</th>\n",
       "      <td>61.955259</td>\n",
       "      <td>62.263146</td>\n",
       "      <td>61.667233</td>\n",
       "      <td>62.124100</td>\n",
       "      <td>8179200</td>\n",
       "      <td>0.485</td>\n",
       "      <td>0.0</td>\n",
       "    </tr>\n",
       "    <tr>\n",
       "      <th>2024-09-13 00:00:00-04:00</th>\n",
       "      <td>70.839996</td>\n",
       "      <td>71.470001</td>\n",
       "      <td>70.480003</td>\n",
       "      <td>71.410004</td>\n",
       "      <td>11073800</td>\n",
       "      <td>0.485</td>\n",
       "      <td>0.0</td>\n",
       "    </tr>\n",
       "  </tbody>\n",
       "</table>\n",
       "</div>"
      ]
     },
     "execution_count": 26,
     "metadata": {},
     "output_type": "execute_result"
    }
   ],
   "execution_count": 26
  },
  {
   "cell_type": "code",
   "id": "76b765c8ac75956c",
   "metadata": {
    "ExecuteTime": {
     "end_time": "2024-11-20T21:22:48.690461Z",
     "start_time": "2024-11-20T21:22:48.477877Z"
    }
   },
   "source": [
    "stock = yf.Ticker('AMZN')\n",
    "hist = stock.history(period='10y')\n",
    "df = pd.DataFrame(hist)"
   ],
   "outputs": [],
   "execution_count": 13
  },
  {
   "cell_type": "code",
   "id": "e984f9e9bc6c7f9",
   "metadata": {
    "ExecuteTime": {
     "end_time": "2024-11-20T21:22:48.751886Z",
     "start_time": "2024-11-20T21:22:48.745267Z"
    }
   },
   "source": [
    "df['Dividends'] = df['Dividends'].round(4)\n",
    "df.sort_values(by='Date', ascending=False, inplace=True)\n",
    "df[df['Dividends'] > 0]"
   ],
   "outputs": [
    {
     "data": {
      "text/plain": [
       "Empty DataFrame\n",
       "Columns: [Open, High, Low, Close, Volume, Dividends, Stock Splits]\n",
       "Index: []"
      ],
      "text/html": [
       "<div>\n",
       "<style scoped>\n",
       "    .dataframe tbody tr th:only-of-type {\n",
       "        vertical-align: middle;\n",
       "    }\n",
       "\n",
       "    .dataframe tbody tr th {\n",
       "        vertical-align: top;\n",
       "    }\n",
       "\n",
       "    .dataframe thead th {\n",
       "        text-align: right;\n",
       "    }\n",
       "</style>\n",
       "<table border=\"1\" class=\"dataframe\">\n",
       "  <thead>\n",
       "    <tr style=\"text-align: right;\">\n",
       "      <th></th>\n",
       "      <th>Open</th>\n",
       "      <th>High</th>\n",
       "      <th>Low</th>\n",
       "      <th>Close</th>\n",
       "      <th>Volume</th>\n",
       "      <th>Dividends</th>\n",
       "      <th>Stock Splits</th>\n",
       "    </tr>\n",
       "    <tr>\n",
       "      <th>Date</th>\n",
       "      <th></th>\n",
       "      <th></th>\n",
       "      <th></th>\n",
       "      <th></th>\n",
       "      <th></th>\n",
       "      <th></th>\n",
       "      <th></th>\n",
       "    </tr>\n",
       "  </thead>\n",
       "  <tbody>\n",
       "  </tbody>\n",
       "</table>\n",
       "</div>"
      ]
     },
     "execution_count": 14,
     "metadata": {},
     "output_type": "execute_result"
    }
   ],
   "execution_count": 14
  },
  {
   "cell_type": "code",
   "id": "f555e2c661bc3b81",
   "metadata": {
    "ExecuteTime": {
     "end_time": "2024-11-20T21:22:48.820308Z",
     "start_time": "2024-11-20T21:22:48.809854Z"
    }
   },
   "source": [
    "df.resample('6M').mean()"
   ],
   "outputs": [
    {
     "name": "stderr",
     "output_type": "stream",
     "text": [
      "C:\\Users\\Carlo\\AppData\\Local\\Temp\\ipykernel_25532\\1652499239.py:1: FutureWarning: 'M' is deprecated and will be removed in a future version, please use 'ME' instead.\n",
      "  df.resample('6M').mean()\n"
     ]
    },
    {
     "data": {
      "text/plain": [
       "                                 Open        High         Low       Close  \\\n",
       "Date                                                                        \n",
       "2014-11-30 00:00:00-05:00   16.752800   16.879600   16.641300   16.755200   \n",
       "2015-05-31 00:00:00-04:00   18.161573   18.366379   17.990702   18.169964   \n",
       "2015-11-30 00:00:00-05:00   26.379090   26.653656   26.056914   26.366750   \n",
       "2016-05-31 00:00:00-04:00   30.744872   31.119996   30.335008   30.752400   \n",
       "2016-11-30 00:00:00-05:00   38.341484   38.585539   38.034848   38.317488   \n",
       "2017-05-31 00:00:00-04:00   42.716649   42.985500   42.449105   42.753536   \n",
       "2017-11-30 00:00:00-05:00   50.680906   51.018219   50.218512   50.638340   \n",
       "2018-05-31 00:00:00-04:00   71.213778   71.931782   70.305355   71.185157   \n",
       "2018-11-30 00:00:00-05:00   89.681316   90.663805   88.441449   89.563082   \n",
       "2019-05-31 00:00:00-04:00   85.971805   86.886955   84.948886   85.963789   \n",
       "2019-11-30 00:00:00-05:00   91.200366   91.813941   90.406394   91.154705   \n",
       "2020-05-31 00:00:00-04:00  101.499484  102.898654  100.295214  101.695512   \n",
       "2020-11-30 00:00:00-05:00  153.783941  155.839554  151.309476  153.594609   \n",
       "2021-05-31 00:00:00-04:00  161.150044  162.729464  159.339940  160.909698   \n",
       "2021-11-30 00:00:00-05:00  171.285648  172.952266  169.774633  171.394313   \n",
       "2022-05-31 00:00:00-04:00  150.186372  152.423416  147.392837  149.816344   \n",
       "2022-11-30 00:00:00-05:00  116.876378  118.965189  114.739087  116.819331   \n",
       "2023-05-31 00:00:00-04:00   98.748307  100.247016   97.307661   98.894839   \n",
       "2023-11-30 00:00:00-05:00  133.267323  134.807559  131.738347  133.310552   \n",
       "2024-05-31 00:00:00-04:00  169.674560  171.330000  167.992720  169.732880   \n",
       "2024-11-30 00:00:00-05:00  186.544750  188.438834  184.308500  186.514500   \n",
       "\n",
       "                                 Volume  Dividends  Stock Splits  \n",
       "Date                                                              \n",
       "2014-11-30 00:00:00-05:00  5.928480e+07        0.0       0.00000  \n",
       "2015-05-31 00:00:00-04:00  7.300247e+07        0.0       0.00000  \n",
       "2015-11-30 00:00:00-05:00  7.830009e+07        0.0       0.00000  \n",
       "2016-05-31 00:00:00-04:00  9.721942e+07        0.0       0.00000  \n",
       "2016-11-30 00:00:00-05:00  6.994722e+07        0.0       0.00000  \n",
       "2017-05-31 00:00:00-04:00  6.878627e+07        0.0       0.00000  \n",
       "2017-11-30 00:00:00-05:00  7.377039e+07        0.0       0.00000  \n",
       "2018-05-31 00:00:00-04:00  1.006211e+08        0.0       0.00000  \n",
       "2018-11-30 00:00:00-05:00  1.089054e+08        0.0       0.00000  \n",
       "2019-05-31 00:00:00-04:00  1.056971e+08        0.0       0.00000  \n",
       "2019-11-30 00:00:00-05:00  6.476789e+07        0.0       0.00000  \n",
       "2020-05-31 00:00:00-04:00  9.941311e+07        0.0       0.00000  \n",
       "2020-11-30 00:00:00-05:00  9.715200e+07        0.0       0.00000  \n",
       "2021-05-31 00:00:00-04:00  7.280703e+07        0.0       0.00000  \n",
       "2021-11-30 00:00:00-05:00  6.493578e+07        0.0       0.00000  \n",
       "2022-05-31 00:00:00-04:00  7.883090e+07        0.0       0.00000  \n",
       "2022-11-30 00:00:00-05:00  7.071524e+07        0.0       0.15748  \n",
       "2023-05-31 00:00:00-04:00  6.809120e+07        0.0       0.00000  \n",
       "2023-11-30 00:00:00-05:00  5.419412e+07        0.0       0.00000  \n",
       "2024-05-31 00:00:00-04:00  4.352629e+07        0.0       0.00000  \n",
       "2024-11-30 00:00:00-05:00  4.024213e+07        0.0       0.00000  "
      ],
      "text/html": [
       "<div>\n",
       "<style scoped>\n",
       "    .dataframe tbody tr th:only-of-type {\n",
       "        vertical-align: middle;\n",
       "    }\n",
       "\n",
       "    .dataframe tbody tr th {\n",
       "        vertical-align: top;\n",
       "    }\n",
       "\n",
       "    .dataframe thead th {\n",
       "        text-align: right;\n",
       "    }\n",
       "</style>\n",
       "<table border=\"1\" class=\"dataframe\">\n",
       "  <thead>\n",
       "    <tr style=\"text-align: right;\">\n",
       "      <th></th>\n",
       "      <th>Open</th>\n",
       "      <th>High</th>\n",
       "      <th>Low</th>\n",
       "      <th>Close</th>\n",
       "      <th>Volume</th>\n",
       "      <th>Dividends</th>\n",
       "      <th>Stock Splits</th>\n",
       "    </tr>\n",
       "    <tr>\n",
       "      <th>Date</th>\n",
       "      <th></th>\n",
       "      <th></th>\n",
       "      <th></th>\n",
       "      <th></th>\n",
       "      <th></th>\n",
       "      <th></th>\n",
       "      <th></th>\n",
       "    </tr>\n",
       "  </thead>\n",
       "  <tbody>\n",
       "    <tr>\n",
       "      <th>2014-11-30 00:00:00-05:00</th>\n",
       "      <td>16.752800</td>\n",
       "      <td>16.879600</td>\n",
       "      <td>16.641300</td>\n",
       "      <td>16.755200</td>\n",
       "      <td>5.928480e+07</td>\n",
       "      <td>0.0</td>\n",
       "      <td>0.00000</td>\n",
       "    </tr>\n",
       "    <tr>\n",
       "      <th>2015-05-31 00:00:00-04:00</th>\n",
       "      <td>18.161573</td>\n",
       "      <td>18.366379</td>\n",
       "      <td>17.990702</td>\n",
       "      <td>18.169964</td>\n",
       "      <td>7.300247e+07</td>\n",
       "      <td>0.0</td>\n",
       "      <td>0.00000</td>\n",
       "    </tr>\n",
       "    <tr>\n",
       "      <th>2015-11-30 00:00:00-05:00</th>\n",
       "      <td>26.379090</td>\n",
       "      <td>26.653656</td>\n",
       "      <td>26.056914</td>\n",
       "      <td>26.366750</td>\n",
       "      <td>7.830009e+07</td>\n",
       "      <td>0.0</td>\n",
       "      <td>0.00000</td>\n",
       "    </tr>\n",
       "    <tr>\n",
       "      <th>2016-05-31 00:00:00-04:00</th>\n",
       "      <td>30.744872</td>\n",
       "      <td>31.119996</td>\n",
       "      <td>30.335008</td>\n",
       "      <td>30.752400</td>\n",
       "      <td>9.721942e+07</td>\n",
       "      <td>0.0</td>\n",
       "      <td>0.00000</td>\n",
       "    </tr>\n",
       "    <tr>\n",
       "      <th>2016-11-30 00:00:00-05:00</th>\n",
       "      <td>38.341484</td>\n",
       "      <td>38.585539</td>\n",
       "      <td>38.034848</td>\n",
       "      <td>38.317488</td>\n",
       "      <td>6.994722e+07</td>\n",
       "      <td>0.0</td>\n",
       "      <td>0.00000</td>\n",
       "    </tr>\n",
       "    <tr>\n",
       "      <th>2017-05-31 00:00:00-04:00</th>\n",
       "      <td>42.716649</td>\n",
       "      <td>42.985500</td>\n",
       "      <td>42.449105</td>\n",
       "      <td>42.753536</td>\n",
       "      <td>6.878627e+07</td>\n",
       "      <td>0.0</td>\n",
       "      <td>0.00000</td>\n",
       "    </tr>\n",
       "    <tr>\n",
       "      <th>2017-11-30 00:00:00-05:00</th>\n",
       "      <td>50.680906</td>\n",
       "      <td>51.018219</td>\n",
       "      <td>50.218512</td>\n",
       "      <td>50.638340</td>\n",
       "      <td>7.377039e+07</td>\n",
       "      <td>0.0</td>\n",
       "      <td>0.00000</td>\n",
       "    </tr>\n",
       "    <tr>\n",
       "      <th>2018-05-31 00:00:00-04:00</th>\n",
       "      <td>71.213778</td>\n",
       "      <td>71.931782</td>\n",
       "      <td>70.305355</td>\n",
       "      <td>71.185157</td>\n",
       "      <td>1.006211e+08</td>\n",
       "      <td>0.0</td>\n",
       "      <td>0.00000</td>\n",
       "    </tr>\n",
       "    <tr>\n",
       "      <th>2018-11-30 00:00:00-05:00</th>\n",
       "      <td>89.681316</td>\n",
       "      <td>90.663805</td>\n",
       "      <td>88.441449</td>\n",
       "      <td>89.563082</td>\n",
       "      <td>1.089054e+08</td>\n",
       "      <td>0.0</td>\n",
       "      <td>0.00000</td>\n",
       "    </tr>\n",
       "    <tr>\n",
       "      <th>2019-05-31 00:00:00-04:00</th>\n",
       "      <td>85.971805</td>\n",
       "      <td>86.886955</td>\n",
       "      <td>84.948886</td>\n",
       "      <td>85.963789</td>\n",
       "      <td>1.056971e+08</td>\n",
       "      <td>0.0</td>\n",
       "      <td>0.00000</td>\n",
       "    </tr>\n",
       "    <tr>\n",
       "      <th>2019-11-30 00:00:00-05:00</th>\n",
       "      <td>91.200366</td>\n",
       "      <td>91.813941</td>\n",
       "      <td>90.406394</td>\n",
       "      <td>91.154705</td>\n",
       "      <td>6.476789e+07</td>\n",
       "      <td>0.0</td>\n",
       "      <td>0.00000</td>\n",
       "    </tr>\n",
       "    <tr>\n",
       "      <th>2020-05-31 00:00:00-04:00</th>\n",
       "      <td>101.499484</td>\n",
       "      <td>102.898654</td>\n",
       "      <td>100.295214</td>\n",
       "      <td>101.695512</td>\n",
       "      <td>9.941311e+07</td>\n",
       "      <td>0.0</td>\n",
       "      <td>0.00000</td>\n",
       "    </tr>\n",
       "    <tr>\n",
       "      <th>2020-11-30 00:00:00-05:00</th>\n",
       "      <td>153.783941</td>\n",
       "      <td>155.839554</td>\n",
       "      <td>151.309476</td>\n",
       "      <td>153.594609</td>\n",
       "      <td>9.715200e+07</td>\n",
       "      <td>0.0</td>\n",
       "      <td>0.00000</td>\n",
       "    </tr>\n",
       "    <tr>\n",
       "      <th>2021-05-31 00:00:00-04:00</th>\n",
       "      <td>161.150044</td>\n",
       "      <td>162.729464</td>\n",
       "      <td>159.339940</td>\n",
       "      <td>160.909698</td>\n",
       "      <td>7.280703e+07</td>\n",
       "      <td>0.0</td>\n",
       "      <td>0.00000</td>\n",
       "    </tr>\n",
       "    <tr>\n",
       "      <th>2021-11-30 00:00:00-05:00</th>\n",
       "      <td>171.285648</td>\n",
       "      <td>172.952266</td>\n",
       "      <td>169.774633</td>\n",
       "      <td>171.394313</td>\n",
       "      <td>6.493578e+07</td>\n",
       "      <td>0.0</td>\n",
       "      <td>0.00000</td>\n",
       "    </tr>\n",
       "    <tr>\n",
       "      <th>2022-05-31 00:00:00-04:00</th>\n",
       "      <td>150.186372</td>\n",
       "      <td>152.423416</td>\n",
       "      <td>147.392837</td>\n",
       "      <td>149.816344</td>\n",
       "      <td>7.883090e+07</td>\n",
       "      <td>0.0</td>\n",
       "      <td>0.00000</td>\n",
       "    </tr>\n",
       "    <tr>\n",
       "      <th>2022-11-30 00:00:00-05:00</th>\n",
       "      <td>116.876378</td>\n",
       "      <td>118.965189</td>\n",
       "      <td>114.739087</td>\n",
       "      <td>116.819331</td>\n",
       "      <td>7.071524e+07</td>\n",
       "      <td>0.0</td>\n",
       "      <td>0.15748</td>\n",
       "    </tr>\n",
       "    <tr>\n",
       "      <th>2023-05-31 00:00:00-04:00</th>\n",
       "      <td>98.748307</td>\n",
       "      <td>100.247016</td>\n",
       "      <td>97.307661</td>\n",
       "      <td>98.894839</td>\n",
       "      <td>6.809120e+07</td>\n",
       "      <td>0.0</td>\n",
       "      <td>0.00000</td>\n",
       "    </tr>\n",
       "    <tr>\n",
       "      <th>2023-11-30 00:00:00-05:00</th>\n",
       "      <td>133.267323</td>\n",
       "      <td>134.807559</td>\n",
       "      <td>131.738347</td>\n",
       "      <td>133.310552</td>\n",
       "      <td>5.419412e+07</td>\n",
       "      <td>0.0</td>\n",
       "      <td>0.00000</td>\n",
       "    </tr>\n",
       "    <tr>\n",
       "      <th>2024-05-31 00:00:00-04:00</th>\n",
       "      <td>169.674560</td>\n",
       "      <td>171.330000</td>\n",
       "      <td>167.992720</td>\n",
       "      <td>169.732880</td>\n",
       "      <td>4.352629e+07</td>\n",
       "      <td>0.0</td>\n",
       "      <td>0.00000</td>\n",
       "    </tr>\n",
       "    <tr>\n",
       "      <th>2024-11-30 00:00:00-05:00</th>\n",
       "      <td>186.544750</td>\n",
       "      <td>188.438834</td>\n",
       "      <td>184.308500</td>\n",
       "      <td>186.514500</td>\n",
       "      <td>4.024213e+07</td>\n",
       "      <td>0.0</td>\n",
       "      <td>0.00000</td>\n",
       "    </tr>\n",
       "  </tbody>\n",
       "</table>\n",
       "</div>"
      ]
     },
     "execution_count": 15,
     "metadata": {},
     "output_type": "execute_result"
    }
   ],
   "execution_count": 15
  },
  {
   "cell_type": "code",
   "id": "3eb34af0a9e47e81",
   "metadata": {
    "ExecuteTime": {
     "end_time": "2024-11-20T21:22:48.857028Z",
     "start_time": "2024-11-20T21:22:48.851751Z"
    }
   },
   "source": [
    "df[df['Stock Splits'] > 0]"
   ],
   "outputs": [
    {
     "data": {
      "text/plain": [
       "                             Open        High         Low       Close  \\\n",
       "Date                                                                    \n",
       "2022-06-06 00:00:00-04:00  125.25  128.990005  123.809998  124.790001   \n",
       "\n",
       "                              Volume  Dividends  Stock Splits  \n",
       "Date                                                           \n",
       "2022-06-06 00:00:00-04:00  135269000        0.0          20.0  "
      ],
      "text/html": [
       "<div>\n",
       "<style scoped>\n",
       "    .dataframe tbody tr th:only-of-type {\n",
       "        vertical-align: middle;\n",
       "    }\n",
       "\n",
       "    .dataframe tbody tr th {\n",
       "        vertical-align: top;\n",
       "    }\n",
       "\n",
       "    .dataframe thead th {\n",
       "        text-align: right;\n",
       "    }\n",
       "</style>\n",
       "<table border=\"1\" class=\"dataframe\">\n",
       "  <thead>\n",
       "    <tr style=\"text-align: right;\">\n",
       "      <th></th>\n",
       "      <th>Open</th>\n",
       "      <th>High</th>\n",
       "      <th>Low</th>\n",
       "      <th>Close</th>\n",
       "      <th>Volume</th>\n",
       "      <th>Dividends</th>\n",
       "      <th>Stock Splits</th>\n",
       "    </tr>\n",
       "    <tr>\n",
       "      <th>Date</th>\n",
       "      <th></th>\n",
       "      <th></th>\n",
       "      <th></th>\n",
       "      <th></th>\n",
       "      <th></th>\n",
       "      <th></th>\n",
       "      <th></th>\n",
       "    </tr>\n",
       "  </thead>\n",
       "  <tbody>\n",
       "    <tr>\n",
       "      <th>2022-06-06 00:00:00-04:00</th>\n",
       "      <td>125.25</td>\n",
       "      <td>128.990005</td>\n",
       "      <td>123.809998</td>\n",
       "      <td>124.790001</td>\n",
       "      <td>135269000</td>\n",
       "      <td>0.0</td>\n",
       "      <td>20.0</td>\n",
       "    </tr>\n",
       "  </tbody>\n",
       "</table>\n",
       "</div>"
      ]
     },
     "execution_count": 16,
     "metadata": {},
     "output_type": "execute_result"
    }
   ],
   "execution_count": 16
  },
  {
   "cell_type": "code",
   "id": "f7b2c1d84ebc4f22",
   "metadata": {
    "ExecuteTime": {
     "end_time": "2024-11-20T21:22:48.924230Z",
     "start_time": "2024-11-20T21:22:48.922940Z"
    }
   },
   "source": [],
   "outputs": [],
   "execution_count": null
  },
  {
   "cell_type": "code",
   "id": "db1dcc9ca11aaebd",
   "metadata": {
    "ExecuteTime": {
     "end_time": "2024-11-20T21:22:48.954490Z",
     "start_time": "2024-11-20T21:22:48.953116Z"
    }
   },
   "source": [],
   "outputs": [],
   "execution_count": null
  }
 ],
 "metadata": {
  "kernelspec": {
   "display_name": "Python 3",
   "language": "python",
   "name": "python3"
  },
  "language_info": {
   "codemirror_mode": {
    "name": "ipython",
    "version": 3
   },
   "file_extension": ".py",
   "mimetype": "text/x-python",
   "name": "python",
   "nbconvert_exporter": "python",
   "pygments_lexer": "ipython3",
   "version": "3.12.7"
  }
 },
 "nbformat": 4,
 "nbformat_minor": 5
}
