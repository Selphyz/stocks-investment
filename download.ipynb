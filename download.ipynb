{
 "cells": [
  {
   "cell_type": "code",
   "id": "initial_id",
   "metadata": {
    "collapsed": true,
    "ExecuteTime": {
     "end_time": "2024-11-20T21:46:37.483926Z",
     "start_time": "2024-11-20T21:46:36.748866Z"
    }
   },
   "source": [
    "import os.path\n",
    "\n",
    "import numpy as np\n",
    "import pandas as pd\n",
    "import matplotlib.pyplot as plt # Plotting\n",
    "import matplotlib.dates as mdates # Styling dates\n",
    "import datetime as dt # For defining dates\n",
    "import time\n",
    "import yfinance as yf\n",
    "from pathlib import Path\n",
    "import os"
   ],
   "outputs": [],
   "execution_count": 1
  },
  {
   "cell_type": "code",
   "source": [
    "# Function that gets a dataframe by providing a ticker and starting date\n",
    "def save_to_csv_from_yahoo(folder, ticker):\n",
    "\n",
    "    stock = yf.Ticker(ticker)\n",
    "\n",
    "    try:\n",
    "        print(\"Get Data for : \", ticker)\n",
    "        # Get historical closing price data\n",
    "        df = stock.history(period=\"20y\")[\"Close\"]\n",
    "\n",
    "        # Wait 2 seconds\n",
    "        time.sleep(2)\n",
    "        # Remove the period for saving the file name\n",
    "        # Save data to a CSV file\n",
    "        # File to save to \n",
    "        the_file = folder + '\\\\' + ticker.replace(\".\", \"_\") + '.csv'\n",
    "        print(the_file, \" Saved\")\n",
    "        df.to_csv(the_file)\n",
    "    except Exception as ex:\n",
    "        print(\"Couldn't Get Data for :\", ticker)"
   ],
   "metadata": {
    "collapsed": false,
    "ExecuteTime": {
     "end_time": "2024-11-20T21:46:37.489788Z",
     "start_time": "2024-11-20T21:46:37.486929Z"
    }
   },
   "id": "177ec6f68faa4c3b",
   "outputs": [],
   "execution_count": 2
  },
  {
   "cell_type": "code",
   "source": [
    "sp500url = 'https://en.wikipedia.org/wiki/List_of_S&P_500_companies'\n",
    "sp500data = pd.read_html(sp500url)\n",
    "tickers = sp500data[0]['Symbol'].tolist()\n",
    "#folder = carpeta '\\data\\\\'"
   ],
   "metadata": {
    "collapsed": false,
    "ExecuteTime": {
     "end_time": "2024-11-20T21:46:38.193875Z",
     "start_time": "2024-11-20T21:46:37.585515Z"
    }
   },
   "id": "13b78d49b12f61e8",
   "outputs": [],
   "execution_count": 3
  },
  {
   "cell_type": "code",
   "source": [
    "for x in range(0, 2967):\n",
    "    folder = os.path.join(Path.cwd(), 'data\\\\')\n",
    "    save_to_csv_from_yahoo(folder, tickers[x])\n",
    "print(\"Finished\")"
   ],
   "metadata": {
    "collapsed": false,
    "jupyter": {
     "is_executing": true
    },
    "ExecuteTime": {
     "start_time": "2024-11-20T21:46:38.205998Z"
    }
   },
   "id": "773bb37892a6a31c",
   "outputs": [
    {
     "name": "stdout",
     "output_type": "stream",
     "text": [
      "Get Data for :  MMM\n"
     ]
    },
    {
     "name": "stderr",
     "output_type": "stream",
     "text": [
      "MMM: Period '20y' is invalid, must be one of ['1d', '5d', '1mo', '3mo', '6mo', '1y', '2y', '5y', '10y', 'ytd', 'max']\n"
     ]
    },
    {
     "name": "stdout",
     "output_type": "stream",
     "text": [
      "C:\\Users\\Carlo\\OneDrive\\Escritorio\\Proyectos\\Datascience\\stocks-investment\\data\\\\MMM.csv  Saved\n",
      "Get Data for :  AOS\n"
     ]
    },
    {
     "name": "stderr",
     "output_type": "stream",
     "text": [
      "AOS: Period '20y' is invalid, must be one of ['1d', '5d', '1mo', '3mo', '6mo', '1y', '2y', '5y', '10y', 'ytd', 'max']\n"
     ]
    },
    {
     "name": "stdout",
     "output_type": "stream",
     "text": [
      "C:\\Users\\Carlo\\OneDrive\\Escritorio\\Proyectos\\Datascience\\stocks-investment\\data\\\\AOS.csv  Saved\n",
      "Get Data for :  ABT\n"
     ]
    },
    {
     "name": "stderr",
     "output_type": "stream",
     "text": [
      "ABT: Period '20y' is invalid, must be one of ['1d', '5d', '1mo', '3mo', '6mo', '1y', '2y', '5y', '10y', 'ytd', 'max']\n",
      "ABBV: Period '20y' is invalid, must be one of ['1d', '5d', '1mo', '3mo', '6mo', '1y', '2y', '5y', '10y', 'ytd', 'max']\n"
     ]
    },
    {
     "name": "stdout",
     "output_type": "stream",
     "text": [
      "C:\\Users\\Carlo\\OneDrive\\Escritorio\\Proyectos\\Datascience\\stocks-investment\\data\\\\ABT.csv  Saved\n",
      "Get Data for :  ABBV\n"
     ]
    }
   ],
   "execution_count": null
  }
 ],
 "metadata": {
  "kernelspec": {
   "display_name": "Python 3",
   "language": "python",
   "name": "python3"
  },
  "language_info": {
   "codemirror_mode": {
    "name": "ipython",
    "version": 2
   },
   "file_extension": ".py",
   "mimetype": "text/x-python",
   "name": "python",
   "nbconvert_exporter": "python",
   "pygments_lexer": "ipython2",
   "version": "2.7.6"
  }
 },
 "nbformat": 4,
 "nbformat_minor": 5
}
